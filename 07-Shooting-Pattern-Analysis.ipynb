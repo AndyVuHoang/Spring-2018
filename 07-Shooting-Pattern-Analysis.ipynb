{
 "cells": [
  {
   "cell_type": "markdown",
   "metadata": {},
   "source": [
    "# Shooting Pattern Analysis"
   ]
  },
  {
   "cell_type": "code",
   "execution_count": null,
   "metadata": {},
   "outputs": [],
   "source": [
    "%matplotlib inline\n",
    "\n",
    "import pandas as pd\n",
    "import numpy as np\n",
    "import matplotlib.pyplot as plt\n",
    "import subprocess as sp\n",
    "import pickle\n",
    "\n",
    "import helper_basketball as h\n",
    "import imp\n",
    "imp.reload(h);"
   ]
  },
  {
   "cell_type": "code",
   "execution_count": null,
   "metadata": {},
   "outputs": [],
   "source": [
    "## get all 2016-17 teams\n",
    "params = {'LeagueID':'00','Season': '2016-17'}\n",
    "teams = h.get_nba_data('commonTeamYears', params).set_index('TEAM_ID')\n",
    "allteams = teams.loc[teams.MAX_YEAR=='2017'].index.values\n",
    "\n",
    "## get all 2016-17 players\n",
    "params = {'LeagueID':'00', 'Season': '2016-17', 'IsOnlyCurrentSeason': '0'}\n",
    "players = h.get_nba_data('commonallplayers', params).set_index('PERSON_ID')\n",
    "allplyrs = players.loc[players.TEAM_ID.isin(allteams)].index.values"
   ]
  },
  {
   "cell_type": "code",
   "execution_count": null,
   "metadata": {},
   "outputs": [],
   "source": [
    "## params = {'PlayerID':'201939',\n",
    "##           'PlayerPosition':'',\n",
    "##           'Season':'2016-17',\n",
    "##           'ContextMeasure':'FGA',\n",
    "##           'DateFrom':'',\n",
    "##           'DateTo':'',\n",
    "##           'GameID':'',\n",
    "##           'GameSegment':'',\n",
    "##           'LastNGames':'0',\n",
    "##           'LeagueID':'00',\n",
    "##           'Location':'',\n",
    "##           'Month':'0',\n",
    "##           'OpponentTeamID':'0',\n",
    "##           'Outcome':'',\n",
    "##           'Period':'0',\n",
    "##           'Position':'',\n",
    "##           'RookieYear':'',\n",
    "##           'SeasonSegment':'',\n",
    "##           'SeasonType':'Regular Season',\n",
    "##           'TeamID':'0',\n",
    "##           'VsConference':'',\n",
    "##           'VsDivision':''}\n",
    "## \n",
    "## shotdf = []\n",
    "## for p in allplyrs:\n",
    "##     \n",
    "##     ## get player p's data\n",
    "##     params['PlayerID'] = p\n",
    "##     shotdata = h.get_nba_data('shotchartdetail', params)\n",
    "##     \n",
    "##     ## subset columns\n",
    "##     sc = shotdata.loc[:,'SHOT_DISTANCE':'SHOT_MADE_FLAG']\n",
    "##     sc.drop('SHOT_ATTEMPTED_FLAG', axis=1)\n",
    "##     \n",
    "##     ## filter shots to 31 feet from end zone\n",
    "##     sc = sc.loc[sc.LOC_Y < (31*12)]\n",
    "##     \n",
    "##     ## keep data with more than 50 shots\n",
    "##     \n",
    "##     if sc.SHOT_MADE_FLAG.sum() > 50:\n",
    "##         \n",
    "##         sc['PlayerID'] = p\n",
    "##         shotdf += [sc]\n",
    "## \n",
    "## allshots = pd.concat(shotdf)\n",
    "## \n",
    "## pickle.dump(allshots, open('allshots2016-17.pkl', 'wb'))"
   ]
  },
  {
   "cell_type": "code",
   "execution_count": null,
   "metadata": {},
   "outputs": [],
   "source": [
    "allshots = pickle.load(open('allshots2016-17.pkl', 'rb'))"
   ]
  },
  {
   "cell_type": "code",
   "execution_count": null,
   "metadata": {},
   "outputs": [],
   "source": [
    "allmade = allshots.loc[allshots.SHOT_MADE_FLAG==1]\n",
    "allmade.head()"
   ]
  },
  {
   "cell_type": "code",
   "execution_count": null,
   "metadata": {},
   "outputs": [],
   "source": [
    "pd.DataFrame([allmade.LOC_X.describe(), \n",
    "              allmade.LOC_Y.describe()])"
   ]
  },
  {
   "cell_type": "code",
   "execution_count": null,
   "metadata": {},
   "outputs": [],
   "source": [
    "## players info\n",
    "player_ids = allmade.PlayerID.unique()\n",
    "num_players = player_ids.size\n",
    "\n",
    "## bin edges\n",
    "xedges = (np.linspace(start=-25, stop=25, num=151, dtype=np.float)) * 12\n",
    "yedges = (np.linspace(start= -4, stop=31, num=106, dtype=np.float)) * 12\n",
    "\n",
    "nx = xedges.size - 1\n",
    "ny = yedges.size - 1\n",
    "\n",
    "## 2d histogram\n",
    "all_counts = {}\n",
    "all_smooth = {}\n",
    "\n",
    "## data matrix: players (row) by vectorized 2-d court locations (column)\n",
    "for i, one in enumerate(allmade.groupby('PlayerID')):\n",
    "    \n",
    "    pid, pdf = one\n",
    "    \n",
    "    tmp1, xedges, yedges = h.bin_shots(pdf, bin_edges=(xedges, yedges), density=True, sigma=2)\n",
    "    tmp2, xedges, yedges = h.bin_shots(pdf, bin_edges=(xedges, yedges), density=False)\n",
    "    \n",
    "    all_smooth[pid] = tmp1.reshape(-1)\n",
    "    all_counts[pid] = tmp2.reshape(-1)"
   ]
  },
  {
   "cell_type": "code",
   "execution_count": null,
   "metadata": {},
   "outputs": [],
   "source": [
    "players.head()"
   ]
  },
  {
   "cell_type": "code",
   "execution_count": null,
   "metadata": {},
   "outputs": [],
   "source": [
    "## select players from paper\n",
    "stars = 'LeBron James|Brook Lopez|Tyson Chandler|Marc Gasol|Tony Parker|Kyrie Irving|Stephen Curry|James Harden|Steve Novak'\n",
    "starids = players[players.DISPLAY_FIRST_LAST.str.contains(stars)].loc[player_ids].dropna()"
   ]
  },
  {
   "cell_type": "code",
   "execution_count": null,
   "metadata": {},
   "outputs": [],
   "source": [
    "fig, ax = plt.subplots(starids.shape[0], 2, figsize=(20,60))\n",
    "\n",
    "for axi, plyri in enumerate(starids.index.values):\n",
    "    h.plot_shotchart(all_counts[plyri], xedges, yedges, ax=ax[axi,0])\n",
    "    h.plot_shotchart(all_smooth[plyri], xedges, yedges, ax=ax[axi,1])\n",
    "    ax[axi,0].set_title(players.DISPLAY_FIRST_LAST[plyri])\n",
    "    ax[axi,1].set_title(players.DISPLAY_FIRST_LAST[plyri])"
   ]
  },
  {
   "cell_type": "code",
   "execution_count": null,
   "metadata": {},
   "outputs": [],
   "source": [
    "## Non-negative Matrix Factorization\n",
    "\n",
    "import sklearn.decomposition as skld\n",
    "\n",
    "X = np.stack(all_smooth.values())\n",
    "\n",
    "model = skld.NMF(n_components=10, init='nndsvda', max_iter=500, random_state=0)\n",
    "W = model.fit_transform(X.T)\n",
    "H = model.components_"
   ]
  },
  {
   "cell_type": "code",
   "execution_count": null,
   "metadata": {},
   "outputs": [],
   "source": [
    "fig, ax = plt.subplots(5, 2, figsize=(20,40))\n",
    "\n",
    "for i, axi in enumerate(ax.flatten()):\n",
    "    h.plot_shotchart(W[:,i], xedges, yedges, ax=axi)\n",
    "    axi.set_title('NMF component ' + str(i))"
   ]
  }
 ],
 "metadata": {
  "language_info": {
   "name": "python",
   "pygments_lexer": "ipython3"
  }
 },
 "nbformat": 4,
 "nbformat_minor": 2
}
