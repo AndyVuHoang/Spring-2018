{
 "cells": [
  {
   "cell_type": "markdown",
   "metadata": {},
   "source": [
    "# Lab2: Introduction to Shell for Data Science\n",
    "\n",
    "Outline\n",
    "1. Basic commands\n",
    "2. Manipulating data\n",
    "3. Combining tools\n",
    "4. Batch processing\n",
    "5. Shell Scripts\n",
    "----\n",
    "Appendix: Regular expressions"
   ]
  },
  {
   "cell_type": "markdown",
   "metadata": {},
   "source": [
    "## 1. Basic commands\n",
    "\n",
    "Suppose you want to download a file from the web and place it in `/Labs/data/` where your `/Labs/` current directory. \n"
   ]
  },
  {
   "cell_type": "code",
   "execution_count": 3,
   "metadata": {},
   "outputs": [
    {
     "name": "stdout",
     "output_type": "stream",
     "text": [
      "/Users/checorh/Google Drive/UC Santa Barbara/TA Material/PSTAT 134-234 Statistical Data Science/Spring-2018/Labs\r\n"
     ]
    }
   ],
   "source": [
    "# We can invoke shell commands within Jupyter notebook ! \n",
    "! pwd"
   ]
  },
  {
   "cell_type": "markdown",
   "metadata": {},
   "source": [
    "We create a new directory `data/` using the `mkdir` (\"make directory\")  command:"
   ]
  },
  {
   "cell_type": "code",
   "execution_count": null,
   "metadata": {
    "collapsed": true
   },
   "outputs": [],
   "source": [
    "! mkdir data"
   ]
  },
  {
   "cell_type": "markdown",
   "metadata": {},
   "source": [
    "Navigate to the `data/` folder and then download the file from the [UCI Machine Learning repository](https://archive.ics.uci.edu/ml/index.php). To do so, we will use the `wget` command introduced in [Data collection and manipulation](https://github.com/UCSB-PSTAT-134-234/Spring-2018/blob/master/03-Data-collection-and-manipulation.ipynb)."
   ]
  },
  {
   "cell_type": "code",
   "execution_count": 39,
   "metadata": {},
   "outputs": [
    {
     "name": "stdout",
     "output_type": "stream",
     "text": [
      "--17:55:45--  https://archive.ics.uci.edu/ml/machine-learning-databases/iris/iris.data\n",
      "           => `iris.data'\n",
      "Resolving archive.ics.uci.edu... 128.195.10.249\n",
      "Connecting to archive.ics.uci.edu[128.195.10.249]:443... connected.\n",
      "HTTP request sent, awaiting response... 200 OK\n",
      "Length: 4,551 [text/plain]\n",
      "\n",
      "100%[====================================>] 4,551         --.--K/s             \n",
      "\n",
      "17:55:45 (10.51 MB/s) - `iris.data' saved [4551/4551]\n",
      "\n"
     ]
    }
   ],
   "source": [
    "! wget https://archive.ics.uci.edu/ml/machine-learning-databases/iris/iris.data"
   ]
  },
  {
   "cell_type": "markdown",
   "metadata": {},
   "source": [
    "We now make sure that the data has been successfully downloaded by using our basic navigation commands (`pwd`, `ls`, `cd`, etc)."
   ]
  },
  {
   "cell_type": "code",
   "execution_count": 40,
   "metadata": {},
   "outputs": [
    {
     "name": "stdout",
     "output_type": "stream",
     "text": [
      "Lab1.ipynb                 \u001b[34mdata\u001b[m\u001b[m\r\n",
      "Lab2.ipynb                 iris.data\r\n",
      "Updating Forked Repo.ipynb\r\n"
     ]
    }
   ],
   "source": [
    "! ls"
   ]
  },
  {
   "cell_type": "markdown",
   "metadata": {},
   "source": [
    "We can create a copy of `iris.data` to the `data/` folder "
   ]
  },
  {
   "cell_type": "code",
   "execution_count": 41,
   "metadata": {
    "collapsed": true
   },
   "outputs": [],
   "source": [
    "! cp ./iris.data ./data/iris.data"
   ]
  },
  {
   "cell_type": "code",
   "execution_count": 61,
   "metadata": {},
   "outputs": [
    {
     "name": "stdout",
     "output_type": "stream",
     "text": [
      "total 16\r\n",
      "-rw-r--r--  1 checorh  staff  4551 Apr 11 17:55 iris.data\r\n"
     ]
    }
   ],
   "source": [
    "! ls -F -l data/"
   ]
  },
  {
   "cell_type": "markdown",
   "metadata": {},
   "source": [
    "## 2. Manipulating data\n",
    "\n",
    "The first thing most data scientists do when given a new dataset to analyze is figure out what fields it contains and what values those fields have. If the dataset has been exported from a database or spreadsheet, it will often be stored as comma-separated values (CSV). A quick way to figure out what it contains is to look at the first few rows.\n",
    "\n",
    "### Selecting rows from a file"
   ]
  },
  {
   "cell_type": "code",
   "execution_count": 43,
   "metadata": {},
   "outputs": [
    {
     "name": "stdout",
     "output_type": "stream",
     "text": [
      "5.1,3.5,1.4,0.2,Iris-setosa\r\n",
      "4.9,3.0,1.4,0.2,Iris-setosa\r\n",
      "4.7,3.2,1.3,0.2,Iris-setosa\r\n",
      "4.6,3.1,1.5,0.2,Iris-setosa\r\n",
      "5.0,3.6,1.4,0.2,Iris-setosa\r\n",
      "5.4,3.9,1.7,0.4,Iris-setosa\r\n",
      "4.6,3.4,1.4,0.3,Iris-setosa\r\n",
      "5.0,3.4,1.5,0.2,Iris-setosa\r\n",
      "4.4,2.9,1.4,0.2,Iris-setosa\r\n",
      "4.9,3.1,1.5,0.1,Iris-setosa\r\n",
      "5.4,3.7,1.5,0.2,Iris-setosa\r\n",
      "4.8,3.4,1.6,0.2,Iris-setosa\r\n",
      "4.8,3.0,1.4,0.1,Iris-setosa\r\n",
      "4.3,3.0,1.1,0.1,Iris-setosa\r\n",
      "5.8,4.0,1.2,0.2,Iris-setosa\r\n",
      "5.7,4.4,1.5,0.4,Iris-setosa\r\n",
      "5.4,3.9,1.3,0.4,Iris-setosa\r\n",
      "5.1,3.5,1.4,0.3,Iris-setosa\r\n",
      "5.7,3.8,1.7,0.3,Iris-setosa\r\n",
      "5.1,3.8,1.5,0.3,Iris-setosa\r\n",
      "5.4,3.4,1.7,0.2,Iris-setosa\r\n",
      "5.1,3.7,1.5,0.4,Iris-setosa\r\n",
      "4.6,3.6,1.0,0.2,Iris-setosa\r\n",
      "5.1,3.3,1.7,0.5,Iris-setosa\r\n",
      "4.8,3.4,1.9,0.2,Iris-setosa\r\n",
      "5.0,3.0,1.6,0.2,Iris-setosa\r\n",
      "5.0,3.4,1.6,0.4,Iris-setosa\r\n",
      "5.2,3.5,1.5,0.2,Iris-setosa\r\n",
      "5.2,3.4,1.4,0.2,Iris-setosa\r\n",
      "4.7,3.2,1.6,0.2,Iris-setosa\r\n",
      "4.8,3.1,1.6,0.2,Iris-setosa\r\n",
      "5.4,3.4,1.5,0.4,Iris-setosa\r\n",
      "5.2,4.1,1.5,0.1,Iris-setosa\r\n",
      "5.5,4.2,1.4,0.2,Iris-setosa\r\n",
      "4.9,3.1,1.5,0.1,Iris-setosa\r\n",
      "5.0,3.2,1.2,0.2,Iris-setosa\r\n",
      "5.5,3.5,1.3,0.2,Iris-setosa\r\n",
      "4.9,3.1,1.5,0.1,Iris-setosa\r\n",
      "4.4,3.0,1.3,0.2,Iris-setosa\r\n",
      "5.1,3.4,1.5,0.2,Iris-setosa\r\n",
      "5.0,3.5,1.3,0.3,Iris-setosa\r\n",
      "4.5,2.3,1.3,0.3,Iris-setosa\r\n",
      "4.4,3.2,1.3,0.2,Iris-setosa\r\n",
      "5.0,3.5,1.6,0.6,Iris-setosa\r\n",
      "5.1,3.8,1.9,0.4,Iris-setosa\r\n",
      "4.8,3.0,1.4,0.3,Iris-setosa\r\n",
      "5.1,3.8,1.6,0.2,Iris-setosa\r\n",
      "4.6,3.2,1.4,0.2,Iris-setosa\r\n",
      "5.3,3.7,1.5,0.2,Iris-setosa\r\n",
      "5.0,3.3,1.4,0.2,Iris-setosa\r\n",
      "7.0,3.2,4.7,1.4,Iris-versicolor\r\n",
      "6.4,3.2,4.5,1.5,Iris-versicolor\r\n",
      "6.9,3.1,4.9,1.5,Iris-versicolor\r\n",
      "5.5,2.3,4.0,1.3,Iris-versicolor\r\n",
      "6.5,2.8,4.6,1.5,Iris-versicolor\r\n",
      "5.7,2.8,4.5,1.3,Iris-versicolor\r\n",
      "6.3,3.3,4.7,1.6,Iris-versicolor\r\n",
      "4.9,2.4,3.3,1.0,Iris-versicolor\r\n",
      "6.6,2.9,4.6,1.3,Iris-versicolor\r\n",
      "5.2,2.7,3.9,1.4,Iris-versicolor\r\n",
      "5.0,2.0,3.5,1.0,Iris-versicolor\r\n",
      "5.9,3.0,4.2,1.5,Iris-versicolor\r\n",
      "6.0,2.2,4.0,1.0,Iris-versicolor\r\n",
      "6.1,2.9,4.7,1.4,Iris-versicolor\r\n",
      "5.6,2.9,3.6,1.3,Iris-versicolor\r\n",
      "6.7,3.1,4.4,1.4,Iris-versicolor\r\n",
      "5.6,3.0,4.5,1.5,Iris-versicolor\r\n",
      "5.8,2.7,4.1,1.0,Iris-versicolor\r\n",
      "6.2,2.2,4.5,1.5,Iris-versicolor\r\n",
      "5.6,2.5,3.9,1.1,Iris-versicolor\r\n",
      "5.9,3.2,4.8,1.8,Iris-versicolor\r\n",
      "6.1,2.8,4.0,1.3,Iris-versicolor\r\n",
      "6.3,2.5,4.9,1.5,Iris-versicolor\r\n",
      "6.1,2.8,4.7,1.2,Iris-versicolor\r\n",
      "6.4,2.9,4.3,1.3,Iris-versicolor\r\n",
      "6.6,3.0,4.4,1.4,Iris-versicolor\r\n",
      "6.8,2.8,4.8,1.4,Iris-versicolor\r\n",
      "6.7,3.0,5.0,1.7,Iris-versicolor\r\n",
      "6.0,2.9,4.5,1.5,Iris-versicolor\r\n",
      "5.7,2.6,3.5,1.0,Iris-versicolor\r\n",
      "5.5,2.4,3.8,1.1,Iris-versicolor\r\n",
      "5.5,2.4,3.7,1.0,Iris-versicolor\r\n",
      "5.8,2.7,3.9,1.2,Iris-versicolor\r\n",
      "6.0,2.7,5.1,1.6,Iris-versicolor\r\n",
      "5.4,3.0,4.5,1.5,Iris-versicolor\r\n",
      "6.0,3.4,4.5,1.6,Iris-versicolor\r\n",
      "6.7,3.1,4.7,1.5,Iris-versicolor\r\n",
      "6.3,2.3,4.4,1.3,Iris-versicolor\r\n",
      "5.6,3.0,4.1,1.3,Iris-versicolor\r\n",
      "5.5,2.5,4.0,1.3,Iris-versicolor\r\n",
      "5.5,2.6,4.4,1.2,Iris-versicolor\r\n",
      "6.1,3.0,4.6,1.4,Iris-versicolor\r\n",
      "5.8,2.6,4.0,1.2,Iris-versicolor\r\n",
      "5.0,2.3,3.3,1.0,Iris-versicolor\r\n",
      "5.6,2.7,4.2,1.3,Iris-versicolor\r\n",
      "5.7,3.0,4.2,1.2,Iris-versicolor\r\n",
      "5.7,2.9,4.2,1.3,Iris-versicolor\r\n",
      "6.2,2.9,4.3,1.3,Iris-versicolor\r\n",
      "5.1,2.5,3.0,1.1,Iris-versicolor\r\n",
      "5.7,2.8,4.1,1.3,Iris-versicolor\r\n",
      "6.3,3.3,6.0,2.5,Iris-virginica\r\n",
      "5.8,2.7,5.1,1.9,Iris-virginica\r\n",
      "7.1,3.0,5.9,2.1,Iris-virginica\r\n",
      "6.3,2.9,5.6,1.8,Iris-virginica\r\n",
      "6.5,3.0,5.8,2.2,Iris-virginica\r\n",
      "7.6,3.0,6.6,2.1,Iris-virginica\r\n",
      "4.9,2.5,4.5,1.7,Iris-virginica\r\n",
      "7.3,2.9,6.3,1.8,Iris-virginica\r\n",
      "6.7,2.5,5.8,1.8,Iris-virginica\r\n",
      "7.2,3.6,6.1,2.5,Iris-virginica\r\n",
      "6.5,3.2,5.1,2.0,Iris-virginica\r\n",
      "6.4,2.7,5.3,1.9,Iris-virginica\r\n",
      "6.8,3.0,5.5,2.1,Iris-virginica\r\n",
      "5.7,2.5,5.0,2.0,Iris-virginica\r\n",
      "5.8,2.8,5.1,2.4,Iris-virginica\r\n",
      "6.4,3.2,5.3,2.3,Iris-virginica\r\n",
      "6.5,3.0,5.5,1.8,Iris-virginica\r\n",
      "7.7,3.8,6.7,2.2,Iris-virginica\r\n",
      "7.7,2.6,6.9,2.3,Iris-virginica\r\n",
      "6.0,2.2,5.0,1.5,Iris-virginica\r\n",
      "6.9,3.2,5.7,2.3,Iris-virginica\r\n",
      "5.6,2.8,4.9,2.0,Iris-virginica\r\n",
      "7.7,2.8,6.7,2.0,Iris-virginica\r\n",
      "6.3,2.7,4.9,1.8,Iris-virginica\r\n",
      "6.7,3.3,5.7,2.1,Iris-virginica\r\n",
      "7.2,3.2,6.0,1.8,Iris-virginica\r\n",
      "6.2,2.8,4.8,1.8,Iris-virginica\r\n",
      "6.1,3.0,4.9,1.8,Iris-virginica\r\n",
      "6.4,2.8,5.6,2.1,Iris-virginica\r\n",
      "7.2,3.0,5.8,1.6,Iris-virginica\r\n",
      "7.4,2.8,6.1,1.9,Iris-virginica\r\n",
      "7.9,3.8,6.4,2.0,Iris-virginica\r\n",
      "6.4,2.8,5.6,2.2,Iris-virginica\r\n",
      "6.3,2.8,5.1,1.5,Iris-virginica\r\n",
      "6.1,2.6,5.6,1.4,Iris-virginica\r\n",
      "7.7,3.0,6.1,2.3,Iris-virginica\r\n",
      "6.3,3.4,5.6,2.4,Iris-virginica\r\n",
      "6.4,3.1,5.5,1.8,Iris-virginica\r\n",
      "6.0,3.0,4.8,1.8,Iris-virginica\r\n",
      "6.9,3.1,5.4,2.1,Iris-virginica\r\n",
      "6.7,3.1,5.6,2.4,Iris-virginica\r\n",
      "6.9,3.1,5.1,2.3,Iris-virginica\r\n",
      "5.8,2.7,5.1,1.9,Iris-virginica\r\n",
      "6.8,3.2,5.9,2.3,Iris-virginica\r\n",
      "6.7,3.3,5.7,2.5,Iris-virginica\r\n",
      "6.7,3.0,5.2,2.3,Iris-virginica\r\n",
      "6.3,2.5,5.0,1.9,Iris-virginica\r\n",
      "6.5,3.0,5.2,2.0,Iris-virginica\r\n",
      "6.2,3.4,5.4,2.3,Iris-virginica\r\n",
      "5.9,3.0,5.1,1.8,Iris-virginica\r\n",
      "\r\n"
     ]
    }
   ],
   "source": [
    "# Prints entire contents of a file\n",
    "! cat iris.data"
   ]
  },
  {
   "cell_type": "code",
   "execution_count": 44,
   "metadata": {},
   "outputs": [
    {
     "name": "stdout",
     "output_type": "stream",
     "text": [
      "5.1,3.5,1.4,0.2,Iris-setosa\r\n",
      "4.9,3.0,1.4,0.2,Iris-setosa\r\n",
      "4.7,3.2,1.3,0.2,Iris-setosa\r\n",
      "4.6,3.1,1.5,0.2,Iris-setosa\r\n",
      "5.0,3.6,1.4,0.2,Iris-setosa\r\n",
      "5.4,3.9,1.7,0.4,Iris-setosa\r\n",
      "4.6,3.4,1.4,0.3,Iris-setosa\r\n",
      "5.0,3.4,1.5,0.2,Iris-setosa\r\n",
      "4.4,2.9,1.4,0.2,Iris-setosa\r\n",
      "4.9,3.1,1.5,0.1,Iris-setosa\r\n"
     ]
    }
   ],
   "source": [
    "! head iris.data # show first ten lines"
   ]
  },
  {
   "cell_type": "code",
   "execution_count": null,
   "metadata": {
    "collapsed": true
   },
   "outputs": [],
   "source": [
    "! tail iris.data # show last ten lines"
   ]
  },
  {
   "cell_type": "code",
   "execution_count": 46,
   "metadata": {},
   "outputs": [
    {
     "name": "stdout",
     "output_type": "stream",
     "text": [
      "\r\n",
      "TAIL(1)                   BSD General Commands Manual                  TAIL(1)\r\n",
      "\r\n",
      "N\bNA\bAM\bME\bE\r\n",
      "     t\bta\bai\bil\bl -- display the last part of a file\r\n",
      "\r\n",
      "S\bSY\bYN\bNO\bOP\bPS\bSI\bIS\bS\r\n",
      "     t\bta\bai\bil\bl [-\b-F\bF | -\b-f\bf | -\b-r\br] [-\b-q\bq] [-\b-b\bb _\bn_\bu_\bm_\bb_\be_\br | -\b-c\bc _\bn_\bu_\bm_\bb_\be_\br | -\b-n\bn _\bn_\bu_\bm_\bb_\be_\br] [_\bf_\bi_\bl_\be _\b._\b._\b.]\r\n",
      "\r\n",
      "D\bDE\bES\bSC\bCR\bRI\bIP\bPT\bTI\bIO\bON\bN\r\n",
      "     The t\bta\bai\bil\bl utility displays the contents of _\bf_\bi_\bl_\be or, by default, its stan-\r\n",
      "     dard input, to the standard output.\r\n",
      "\r\n",
      "     The display begins at a byte, line or 512-byte block location in the\r\n",
      "     input.  Numbers having a leading plus (`+') sign are relative to the\r\n",
      "     beginning of the input, for example, ``-c +2'' starts the display at the\r\n",
      "     second byte of the input.  Numbers having a leading minus (`-') sign or\r\n",
      "     no explicit sign are relative to the end of the input, for example, ``-n\r\n",
      "     2'' displays the last two lines of the input.  The default starting loca-\r\n",
      "     tion is ``-n 10'', or the last 10 lines of the input.\r\n",
      "\r\n",
      "     The options are as follows:\r\n",
      "\r\n",
      "     -\b-b\bb _\bn_\bu_\bm_\bb_\be_\br\r\n",
      "             The location is _\bn_\bu_\bm_\bb_\be_\br 512-byte blocks.\r\n",
      "\r\n",
      "     -\b-c\bc _\bn_\bu_\bm_\bb_\be_\br\r\n",
      "             The location is _\bn_\bu_\bm_\bb_\be_\br bytes.\r\n",
      "\r\n",
      "     -\b-f\bf      The -\b-f\bf option causes t\bta\bai\bil\bl to not stop when end of file is\r\n",
      "             reached, but rather to wait for additional data to be appended to\r\n",
      "             the input.  The -\b-f\bf option is ignored if the standard input is a\r\n",
      "             pipe, but not if it is a FIFO.\r\n",
      "\r\n",
      "     -\b-F\bF      The -\b-F\bF option implies the -\b-f\bf option, but t\bta\bai\bil\bl will also check to\r\n",
      "             see if the file being followed has been renamed or rotated.  The\r\n",
      "             file is closed and reopened when t\bta\bai\bil\bl detects that the filename\r\n",
      "             being read from has a new inode number.  The -\b-F\bF option is ignored\r\n",
      "             if reading from standard input rather than a file.\r\n",
      "\r\n",
      "     -\b-n\bn _\bn_\bu_\bm_\bb_\be_\br\r\n",
      "             The location is _\bn_\bu_\bm_\bb_\be_\br lines.\r\n",
      "\r\n",
      "     -\b-q\bq      Suppresses printing of headers when multiple files are being\r\n",
      "             examined.\r\n",
      "\r\n",
      "     -\b-r\br      The -\b-r\br option causes the input to be displayed in reverse order,\r\n",
      "             by line.  Additionally, this option changes the meaning of the\r\n",
      "             -\b-b\bb, -\b-c\bc and -\b-n\bn options.  When the -\b-r\br option is specified, these\r\n",
      "             options specify the number of bytes, lines or 512-byte blocks to\r\n",
      "             display, instead of the bytes, lines or blocks from the beginning\r\n",
      "             or end of the input from which to begin the display.  The default\r\n",
      "             for the -\b-r\br option is to display all of the input.\r\n",
      "\r\n",
      "     If more than a single file is specified, each file is preceded by a\r\n",
      "     header consisting of the string ``==> _\bX_\bX_\bX <=='' where _\bX_\bX_\bX is the name of\r\n",
      "     the file unless -\b-q\bq flag is specified.\r\n",
      "\r\n",
      "E\bEX\bXI\bIT\bT S\bST\bTA\bAT\bTU\bUS\bS\r\n",
      "     The t\bta\bai\bil\bl utility exits 0 on success, and >0 if an error occurs.\r",
      "\r\n",
      "\r\n",
      "S\bSE\bEE\bE A\bAL\bLS\bSO\bO\r\n",
      "     cat(1), head(1), sed(1)\r\n",
      "\r\n",
      "S\bST\bTA\bAN\bND\bDA\bAR\bRD\bDS\bS\r\n",
      "     The t\bta\bai\bil\bl utility is expected to be a superset of the IEEE Std 1003.2-1992\r\n",
      "     (``POSIX.2'') specification.  In particular, the -\b-F\bF, -\b-b\bb and -\b-r\br options\r\n",
      "     are extensions to that standard.\r\n",
      "\r\n",
      "     The historic command line syntax of t\bta\bai\bil\bl is supported by this implementa-\r\n",
      "     tion.  The only difference between this implementation and historic ver-\r\n",
      "     sions of t\bta\bai\bil\bl, once the command line syntax translation has been done, is\r\n",
      "     that the -\b-b\bb, -\b-c\bc and -\b-n\bn options modify the -\b-r\br option, i.e., ``-r -c 4''\r\n",
      "     displays the last 4 characters of the last line of the input, while the\r\n",
      "     historic tail (using the historic syntax ``-4cr'') would ignore the -\b-c\bc\r\n",
      "     option and display the last 4 lines of the input.\r\n",
      "\r\n",
      "H\bHI\bIS\bST\bTO\bOR\bRY\bY\r\n",
      "     A t\bta\bai\bil\bl command appeared in PWB UNIX.\r\n",
      "\r\n",
      "BSD                              June 29, 2006                             BSD\r\n"
     ]
    }
   ],
   "source": [
    "# We can see the help file of a given command using man\n",
    "! man tail"
   ]
  },
  {
   "cell_type": "code",
   "execution_count": 53,
   "metadata": {},
   "outputs": [
    {
     "name": "stdout",
     "output_type": "stream",
     "text": [
      "5.4,3.9,1.7,0.4,Iris-setosa\r\n",
      "4.6,3.4,1.4,0.3,Iris-setosa\r\n",
      "5.0,3.4,1.5,0.2,Iris-setosa\r\n",
      "4.4,2.9,1.4,0.2,Iris-setosa\r\n",
      "4.9,3.1,1.5,0.1,Iris-setosa\r\n",
      "5.4,3.7,1.5,0.2,Iris-setosa\r\n",
      "4.8,3.4,1.6,0.2,Iris-setosa\r\n",
      "4.8,3.0,1.4,0.1,Iris-setosa\r\n",
      "4.3,3.0,1.1,0.1,Iris-setosa\r\n",
      "5.8,4.0,1.2,0.2,Iris-setosa\r\n",
      "5.7,4.4,1.5,0.4,Iris-setosa\r\n",
      "5.4,3.9,1.3,0.4,Iris-setosa\r\n",
      "5.1,3.5,1.4,0.3,Iris-setosa\r\n",
      "5.7,3.8,1.7,0.3,Iris-setosa\r\n",
      "5.1,3.8,1.5,0.3,Iris-setosa\r\n",
      "5.4,3.4,1.7,0.2,Iris-setosa\r\n",
      "5.1,3.7,1.5,0.4,Iris-setosa\r\n",
      "4.6,3.6,1.0,0.2,Iris-setosa\r\n",
      "5.1,3.3,1.7,0.5,Iris-setosa\r\n",
      "4.8,3.4,1.9,0.2,Iris-setosa\r\n",
      "5.0,3.0,1.6,0.2,Iris-setosa\r\n",
      "5.0,3.4,1.6,0.4,Iris-setosa\r\n",
      "5.2,3.5,1.5,0.2,Iris-setosa\r\n",
      "5.2,3.4,1.4,0.2,Iris-setosa\r\n",
      "4.7,3.2,1.6,0.2,Iris-setosa\r\n",
      "4.8,3.1,1.6,0.2,Iris-setosa\r\n",
      "5.4,3.4,1.5,0.4,Iris-setosa\r\n",
      "5.2,4.1,1.5,0.1,Iris-setosa\r\n",
      "5.5,4.2,1.4,0.2,Iris-setosa\r\n",
      "4.9,3.1,1.5,0.1,Iris-setosa\r\n",
      "5.0,3.2,1.2,0.2,Iris-setosa\r\n",
      "5.5,3.5,1.3,0.2,Iris-setosa\r\n",
      "4.9,3.1,1.5,0.1,Iris-setosa\r\n",
      "4.4,3.0,1.3,0.2,Iris-setosa\r\n",
      "5.1,3.4,1.5,0.2,Iris-setosa\r\n",
      "5.0,3.5,1.3,0.3,Iris-setosa\r\n",
      "4.5,2.3,1.3,0.3,Iris-setosa\r\n",
      "4.4,3.2,1.3,0.2,Iris-setosa\r\n",
      "5.0,3.5,1.6,0.6,Iris-setosa\r\n",
      "5.1,3.8,1.9,0.4,Iris-setosa\r\n",
      "4.8,3.0,1.4,0.3,Iris-setosa\r\n",
      "5.1,3.8,1.6,0.2,Iris-setosa\r\n",
      "4.6,3.2,1.4,0.2,Iris-setosa\r\n",
      "5.3,3.7,1.5,0.2,Iris-setosa\r\n",
      "5.0,3.3,1.4,0.2,Iris-setosa\r\n",
      "7.0,3.2,4.7,1.4,Iris-versicolor\r\n",
      "6.4,3.2,4.5,1.5,Iris-versicolor\r\n",
      "6.9,3.1,4.9,1.5,Iris-versicolor\r\n",
      "5.5,2.3,4.0,1.3,Iris-versicolor\r\n",
      "6.5,2.8,4.6,1.5,Iris-versicolor\r\n",
      "5.7,2.8,4.5,1.3,Iris-versicolor\r\n",
      "6.3,3.3,4.7,1.6,Iris-versicolor\r\n",
      "4.9,2.4,3.3,1.0,Iris-versicolor\r\n",
      "6.6,2.9,4.6,1.3,Iris-versicolor\r\n",
      "5.2,2.7,3.9,1.4,Iris-versicolor\r\n",
      "5.0,2.0,3.5,1.0,Iris-versicolor\r\n",
      "5.9,3.0,4.2,1.5,Iris-versicolor\r\n",
      "6.0,2.2,4.0,1.0,Iris-versicolor\r\n",
      "6.1,2.9,4.7,1.4,Iris-versicolor\r\n",
      "5.6,2.9,3.6,1.3,Iris-versicolor\r\n",
      "6.7,3.1,4.4,1.4,Iris-versicolor\r\n",
      "5.6,3.0,4.5,1.5,Iris-versicolor\r\n",
      "5.8,2.7,4.1,1.0,Iris-versicolor\r\n",
      "6.2,2.2,4.5,1.5,Iris-versicolor\r\n",
      "5.6,2.5,3.9,1.1,Iris-versicolor\r\n",
      "5.9,3.2,4.8,1.8,Iris-versicolor\r\n",
      "6.1,2.8,4.0,1.3,Iris-versicolor\r\n",
      "6.3,2.5,4.9,1.5,Iris-versicolor\r\n",
      "6.1,2.8,4.7,1.2,Iris-versicolor\r\n",
      "6.4,2.9,4.3,1.3,Iris-versicolor\r\n",
      "6.6,3.0,4.4,1.4,Iris-versicolor\r\n",
      "6.8,2.8,4.8,1.4,Iris-versicolor\r\n",
      "6.7,3.0,5.0,1.7,Iris-versicolor\r\n",
      "6.0,2.9,4.5,1.5,Iris-versicolor\r\n",
      "5.7,2.6,3.5,1.0,Iris-versicolor\r\n",
      "5.5,2.4,3.8,1.1,Iris-versicolor\r\n",
      "5.5,2.4,3.7,1.0,Iris-versicolor\r\n",
      "5.8,2.7,3.9,1.2,Iris-versicolor\r\n",
      "6.0,2.7,5.1,1.6,Iris-versicolor\r\n",
      "5.4,3.0,4.5,1.5,Iris-versicolor\r\n",
      "6.0,3.4,4.5,1.6,Iris-versicolor\r\n",
      "6.7,3.1,4.7,1.5,Iris-versicolor\r\n",
      "6.3,2.3,4.4,1.3,Iris-versicolor\r\n",
      "5.6,3.0,4.1,1.3,Iris-versicolor\r\n",
      "5.5,2.5,4.0,1.3,Iris-versicolor\r\n",
      "5.5,2.6,4.4,1.2,Iris-versicolor\r\n",
      "6.1,3.0,4.6,1.4,Iris-versicolor\r\n",
      "5.8,2.6,4.0,1.2,Iris-versicolor\r\n",
      "5.0,2.3,3.3,1.0,Iris-versicolor\r\n",
      "5.6,2.7,4.2,1.3,Iris-versicolor\r\n",
      "5.7,3.0,4.2,1.2,Iris-versicolor\r\n",
      "5.7,2.9,4.2,1.3,Iris-versicolor\r\n",
      "6.2,2.9,4.3,1.3,Iris-versicolor\r\n",
      "5.1,2.5,3.0,1.1,Iris-versicolor\r\n",
      "5.7,2.8,4.1,1.3,Iris-versicolor\r\n",
      "6.3,3.3,6.0,2.5,Iris-virginica\r\n",
      "5.8,2.7,5.1,1.9,Iris-virginica\r\n",
      "7.1,3.0,5.9,2.1,Iris-virginica\r\n",
      "6.3,2.9,5.6,1.8,Iris-virginica\r\n",
      "6.5,3.0,5.8,2.2,Iris-virginica\r\n",
      "7.6,3.0,6.6,2.1,Iris-virginica\r\n",
      "4.9,2.5,4.5,1.7,Iris-virginica\r\n",
      "7.3,2.9,6.3,1.8,Iris-virginica\r\n",
      "6.7,2.5,5.8,1.8,Iris-virginica\r\n",
      "7.2,3.6,6.1,2.5,Iris-virginica\r\n",
      "6.5,3.2,5.1,2.0,Iris-virginica\r\n",
      "6.4,2.7,5.3,1.9,Iris-virginica\r\n",
      "6.8,3.0,5.5,2.1,Iris-virginica\r\n",
      "5.7,2.5,5.0,2.0,Iris-virginica\r\n",
      "5.8,2.8,5.1,2.4,Iris-virginica\r\n",
      "6.4,3.2,5.3,2.3,Iris-virginica\r\n",
      "6.5,3.0,5.5,1.8,Iris-virginica\r\n",
      "7.7,3.8,6.7,2.2,Iris-virginica\r\n",
      "7.7,2.6,6.9,2.3,Iris-virginica\r\n",
      "6.0,2.2,5.0,1.5,Iris-virginica\r\n",
      "6.9,3.2,5.7,2.3,Iris-virginica\r\n",
      "5.6,2.8,4.9,2.0,Iris-virginica\r\n",
      "7.7,2.8,6.7,2.0,Iris-virginica\r\n",
      "6.3,2.7,4.9,1.8,Iris-virginica\r\n",
      "6.7,3.3,5.7,2.1,Iris-virginica\r\n",
      "7.2,3.2,6.0,1.8,Iris-virginica\r\n",
      "6.2,2.8,4.8,1.8,Iris-virginica\r\n",
      "6.1,3.0,4.9,1.8,Iris-virginica\r\n",
      "6.4,2.8,5.6,2.1,Iris-virginica\r\n",
      "7.2,3.0,5.8,1.6,Iris-virginica\r\n",
      "7.4,2.8,6.1,1.9,Iris-virginica\r\n",
      "7.9,3.8,6.4,2.0,Iris-virginica\r\n",
      "6.4,2.8,5.6,2.2,Iris-virginica\r\n",
      "6.3,2.8,5.1,1.5,Iris-virginica\r\n",
      "6.1,2.6,5.6,1.4,Iris-virginica\r\n",
      "7.7,3.0,6.1,2.3,Iris-virginica\r\n",
      "6.3,3.4,5.6,2.4,Iris-virginica\r\n",
      "6.4,3.1,5.5,1.8,Iris-virginica\r\n",
      "6.0,3.0,4.8,1.8,Iris-virginica\r\n",
      "6.9,3.1,5.4,2.1,Iris-virginica\r\n",
      "6.7,3.1,5.6,2.4,Iris-virginica\r\n",
      "6.9,3.1,5.1,2.3,Iris-virginica\r\n",
      "5.8,2.7,5.1,1.9,Iris-virginica\r\n",
      "6.8,3.2,5.9,2.3,Iris-virginica\r\n",
      "6.7,3.3,5.7,2.5,Iris-virginica\r\n",
      "6.7,3.0,5.2,2.3,Iris-virginica\r\n",
      "6.3,2.5,5.0,1.9,Iris-virginica\r\n",
      "6.5,3.0,5.2,2.0,Iris-virginica\r\n",
      "6.2,3.4,5.4,2.3,Iris-virginica\r\n",
      "5.9,3.0,5.1,1.8,Iris-virginica\r\n",
      "\r\n"
     ]
    }
   ],
   "source": [
    "# Given the information in the help file we can then display\n",
    "# all but the first 6 lines of the iris.data file\n",
    "! tail -n +6 iris.data"
   ]
  },
  {
   "cell_type": "markdown",
   "metadata": {},
   "source": [
    "### Selecting columns from a file\n",
    "\n",
    "`head` and `tail` let you select rows from a text file. If you want to select columns, you can use the command `cut`. "
   ]
  },
  {
   "cell_type": "code",
   "execution_count": 48,
   "metadata": {},
   "outputs": [
    {
     "name": "stdout",
     "output_type": "stream",
     "text": [
      "5.1,3.5,1.4,Iris-setosa\r\n",
      "4.9,3.0,1.4,Iris-setosa\r\n",
      "4.7,3.2,1.3,Iris-setosa\r\n",
      "4.6,3.1,1.5,Iris-setosa\r\n",
      "5.0,3.6,1.4,Iris-setosa\r\n",
      "5.4,3.9,1.7,Iris-setosa\r\n",
      "4.6,3.4,1.4,Iris-setosa\r\n",
      "5.0,3.4,1.5,Iris-setosa\r\n",
      "4.4,2.9,1.4,Iris-setosa\r\n",
      "4.9,3.1,1.5,Iris-setosa\r\n",
      "5.4,3.7,1.5,Iris-setosa\r\n",
      "4.8,3.4,1.6,Iris-setosa\r\n",
      "4.8,3.0,1.4,Iris-setosa\r\n",
      "4.3,3.0,1.1,Iris-setosa\r\n",
      "5.8,4.0,1.2,Iris-setosa\r\n",
      "5.7,4.4,1.5,Iris-setosa\r\n",
      "5.4,3.9,1.3,Iris-setosa\r\n",
      "5.1,3.5,1.4,Iris-setosa\r\n",
      "5.7,3.8,1.7,Iris-setosa\r\n",
      "5.1,3.8,1.5,Iris-setosa\r\n",
      "5.4,3.4,1.7,Iris-setosa\r\n",
      "5.1,3.7,1.5,Iris-setosa\r\n",
      "4.6,3.6,1.0,Iris-setosa\r\n",
      "5.1,3.3,1.7,Iris-setosa\r\n",
      "4.8,3.4,1.9,Iris-setosa\r\n",
      "5.0,3.0,1.6,Iris-setosa\r\n",
      "5.0,3.4,1.6,Iris-setosa\r\n",
      "5.2,3.5,1.5,Iris-setosa\r\n",
      "5.2,3.4,1.4,Iris-setosa\r\n",
      "4.7,3.2,1.6,Iris-setosa\r\n",
      "4.8,3.1,1.6,Iris-setosa\r\n",
      "5.4,3.4,1.5,Iris-setosa\r\n",
      "5.2,4.1,1.5,Iris-setosa\r\n",
      "5.5,4.2,1.4,Iris-setosa\r\n",
      "4.9,3.1,1.5,Iris-setosa\r\n",
      "5.0,3.2,1.2,Iris-setosa\r\n",
      "5.5,3.5,1.3,Iris-setosa\r\n",
      "4.9,3.1,1.5,Iris-setosa\r\n",
      "4.4,3.0,1.3,Iris-setosa\r\n",
      "5.1,3.4,1.5,Iris-setosa\r\n",
      "5.0,3.5,1.3,Iris-setosa\r\n",
      "4.5,2.3,1.3,Iris-setosa\r\n",
      "4.4,3.2,1.3,Iris-setosa\r\n",
      "5.0,3.5,1.6,Iris-setosa\r\n",
      "5.1,3.8,1.9,Iris-setosa\r\n",
      "4.8,3.0,1.4,Iris-setosa\r\n",
      "5.1,3.8,1.6,Iris-setosa\r\n",
      "4.6,3.2,1.4,Iris-setosa\r\n",
      "5.3,3.7,1.5,Iris-setosa\r\n",
      "5.0,3.3,1.4,Iris-setosa\r\n",
      "7.0,3.2,4.7,Iris-versicolor\r\n",
      "6.4,3.2,4.5,Iris-versicolor\r\n",
      "6.9,3.1,4.9,Iris-versicolor\r\n",
      "5.5,2.3,4.0,Iris-versicolor\r\n",
      "6.5,2.8,4.6,Iris-versicolor\r\n",
      "5.7,2.8,4.5,Iris-versicolor\r\n",
      "6.3,3.3,4.7,Iris-versicolor\r\n",
      "4.9,2.4,3.3,Iris-versicolor\r\n",
      "6.6,2.9,4.6,Iris-versicolor\r\n",
      "5.2,2.7,3.9,Iris-versicolor\r\n",
      "5.0,2.0,3.5,Iris-versicolor\r\n",
      "5.9,3.0,4.2,Iris-versicolor\r\n",
      "6.0,2.2,4.0,Iris-versicolor\r\n",
      "6.1,2.9,4.7,Iris-versicolor\r\n",
      "5.6,2.9,3.6,Iris-versicolor\r\n",
      "6.7,3.1,4.4,Iris-versicolor\r\n",
      "5.6,3.0,4.5,Iris-versicolor\r\n",
      "5.8,2.7,4.1,Iris-versicolor\r\n",
      "6.2,2.2,4.5,Iris-versicolor\r\n",
      "5.6,2.5,3.9,Iris-versicolor\r\n",
      "5.9,3.2,4.8,Iris-versicolor\r\n",
      "6.1,2.8,4.0,Iris-versicolor\r\n",
      "6.3,2.5,4.9,Iris-versicolor\r\n",
      "6.1,2.8,4.7,Iris-versicolor\r\n",
      "6.4,2.9,4.3,Iris-versicolor\r\n",
      "6.6,3.0,4.4,Iris-versicolor\r\n",
      "6.8,2.8,4.8,Iris-versicolor\r\n",
      "6.7,3.0,5.0,Iris-versicolor\r\n",
      "6.0,2.9,4.5,Iris-versicolor\r\n",
      "5.7,2.6,3.5,Iris-versicolor\r\n",
      "5.5,2.4,3.8,Iris-versicolor\r\n",
      "5.5,2.4,3.7,Iris-versicolor\r\n",
      "5.8,2.7,3.9,Iris-versicolor\r\n",
      "6.0,2.7,5.1,Iris-versicolor\r\n",
      "5.4,3.0,4.5,Iris-versicolor\r\n",
      "6.0,3.4,4.5,Iris-versicolor\r\n",
      "6.7,3.1,4.7,Iris-versicolor\r\n",
      "6.3,2.3,4.4,Iris-versicolor\r\n",
      "5.6,3.0,4.1,Iris-versicolor\r\n",
      "5.5,2.5,4.0,Iris-versicolor\r\n",
      "5.5,2.6,4.4,Iris-versicolor\r\n",
      "6.1,3.0,4.6,Iris-versicolor\r\n",
      "5.8,2.6,4.0,Iris-versicolor\r\n",
      "5.0,2.3,3.3,Iris-versicolor\r\n",
      "5.6,2.7,4.2,Iris-versicolor\r\n",
      "5.7,3.0,4.2,Iris-versicolor\r\n",
      "5.7,2.9,4.2,Iris-versicolor\r\n",
      "6.2,2.9,4.3,Iris-versicolor\r\n",
      "5.1,2.5,3.0,Iris-versicolor\r\n",
      "5.7,2.8,4.1,Iris-versicolor\r\n",
      "6.3,3.3,6.0,Iris-virginica\r\n",
      "5.8,2.7,5.1,Iris-virginica\r\n",
      "7.1,3.0,5.9,Iris-virginica\r\n",
      "6.3,2.9,5.6,Iris-virginica\r\n",
      "6.5,3.0,5.8,Iris-virginica\r\n",
      "7.6,3.0,6.6,Iris-virginica\r\n",
      "4.9,2.5,4.5,Iris-virginica\r\n",
      "7.3,2.9,6.3,Iris-virginica\r\n",
      "6.7,2.5,5.8,Iris-virginica\r\n",
      "7.2,3.6,6.1,Iris-virginica\r\n",
      "6.5,3.2,5.1,Iris-virginica\r\n",
      "6.4,2.7,5.3,Iris-virginica\r\n",
      "6.8,3.0,5.5,Iris-virginica\r\n",
      "5.7,2.5,5.0,Iris-virginica\r\n",
      "5.8,2.8,5.1,Iris-virginica\r\n",
      "6.4,3.2,5.3,Iris-virginica\r\n",
      "6.5,3.0,5.5,Iris-virginica\r\n",
      "7.7,3.8,6.7,Iris-virginica\r\n",
      "7.7,2.6,6.9,Iris-virginica\r\n",
      "6.0,2.2,5.0,Iris-virginica\r\n",
      "6.9,3.2,5.7,Iris-virginica\r\n",
      "5.6,2.8,4.9,Iris-virginica\r\n",
      "7.7,2.8,6.7,Iris-virginica\r\n",
      "6.3,2.7,4.9,Iris-virginica\r\n",
      "6.7,3.3,5.7,Iris-virginica\r\n",
      "7.2,3.2,6.0,Iris-virginica\r\n",
      "6.2,2.8,4.8,Iris-virginica\r\n",
      "6.1,3.0,4.9,Iris-virginica\r\n",
      "6.4,2.8,5.6,Iris-virginica\r\n",
      "7.2,3.0,5.8,Iris-virginica\r\n",
      "7.4,2.8,6.1,Iris-virginica\r\n",
      "7.9,3.8,6.4,Iris-virginica\r\n",
      "6.4,2.8,5.6,Iris-virginica\r\n",
      "6.3,2.8,5.1,Iris-virginica\r\n",
      "6.1,2.6,5.6,Iris-virginica\r\n",
      "7.7,3.0,6.1,Iris-virginica\r\n",
      "6.3,3.4,5.6,Iris-virginica\r\n",
      "6.4,3.1,5.5,Iris-virginica\r\n",
      "6.0,3.0,4.8,Iris-virginica\r\n",
      "6.9,3.1,5.4,Iris-virginica\r\n",
      "6.7,3.1,5.6,Iris-virginica\r\n",
      "6.9,3.1,5.1,Iris-virginica\r\n",
      "5.8,2.7,5.1,Iris-virginica\r\n",
      "6.8,3.2,5.9,Iris-virginica\r\n",
      "6.7,3.3,5.7,Iris-virginica\r\n",
      "6.7,3.0,5.2,Iris-virginica\r\n",
      "6.3,2.5,5.0,Iris-virginica\r\n",
      "6.5,3.0,5.2,Iris-virginica\r\n",
      "6.2,3.4,5.4,Iris-virginica\r\n",
      "5.9,3.0,5.1,Iris-virginica\r\n",
      "\r\n"
     ]
    }
   ],
   "source": [
    "! cut -f 1-3,5 -d , iris.data # -f: \"fields\" , -d: \"delimiter\""
   ]
  },
  {
   "cell_type": "markdown",
   "metadata": {},
   "source": [
    "### Selecting lines containing particular values\n",
    "\n",
    "`head` and `tail` select rows, `cut` selects columns, and `grep` selects lines according to what they contain. In its simplest form, `grep` takes a piece of text followed by one or more filenames and prints all of the lines in those files that contain that text. \n",
    "\n",
    "For example, suppose we want to retrieve all lines containing the word \"setosa\": "
   ]
  },
  {
   "cell_type": "code",
   "execution_count": 52,
   "metadata": {},
   "outputs": [
    {
     "name": "stdout",
     "output_type": "stream",
     "text": [
      "5.1,3.5,1.4,0.2,Iris-setosa\r\n",
      "4.9,3.0,1.4,0.2,Iris-setosa\r\n",
      "4.7,3.2,1.3,0.2,Iris-setosa\r\n",
      "4.6,3.1,1.5,0.2,Iris-setosa\r\n",
      "5.0,3.6,1.4,0.2,Iris-setosa\r\n",
      "5.4,3.9,1.7,0.4,Iris-setosa\r\n",
      "4.6,3.4,1.4,0.3,Iris-setosa\r\n",
      "5.0,3.4,1.5,0.2,Iris-setosa\r\n",
      "4.4,2.9,1.4,0.2,Iris-setosa\r\n",
      "4.9,3.1,1.5,0.1,Iris-setosa\r\n",
      "5.4,3.7,1.5,0.2,Iris-setosa\r\n",
      "4.8,3.4,1.6,0.2,Iris-setosa\r\n",
      "4.8,3.0,1.4,0.1,Iris-setosa\r\n",
      "4.3,3.0,1.1,0.1,Iris-setosa\r\n",
      "5.8,4.0,1.2,0.2,Iris-setosa\r\n",
      "5.7,4.4,1.5,0.4,Iris-setosa\r\n",
      "5.4,3.9,1.3,0.4,Iris-setosa\r\n",
      "5.1,3.5,1.4,0.3,Iris-setosa\r\n",
      "5.7,3.8,1.7,0.3,Iris-setosa\r\n",
      "5.1,3.8,1.5,0.3,Iris-setosa\r\n",
      "5.4,3.4,1.7,0.2,Iris-setosa\r\n",
      "5.1,3.7,1.5,0.4,Iris-setosa\r\n",
      "4.6,3.6,1.0,0.2,Iris-setosa\r\n",
      "5.1,3.3,1.7,0.5,Iris-setosa\r\n",
      "4.8,3.4,1.9,0.2,Iris-setosa\r\n",
      "5.0,3.0,1.6,0.2,Iris-setosa\r\n",
      "5.0,3.4,1.6,0.4,Iris-setosa\r\n",
      "5.2,3.5,1.5,0.2,Iris-setosa\r\n",
      "5.2,3.4,1.4,0.2,Iris-setosa\r\n",
      "4.7,3.2,1.6,0.2,Iris-setosa\r\n",
      "4.8,3.1,1.6,0.2,Iris-setosa\r\n",
      "5.4,3.4,1.5,0.4,Iris-setosa\r\n",
      "5.2,4.1,1.5,0.1,Iris-setosa\r\n",
      "5.5,4.2,1.4,0.2,Iris-setosa\r\n",
      "4.9,3.1,1.5,0.1,Iris-setosa\r\n",
      "5.0,3.2,1.2,0.2,Iris-setosa\r\n",
      "5.5,3.5,1.3,0.2,Iris-setosa\r\n",
      "4.9,3.1,1.5,0.1,Iris-setosa\r\n",
      "4.4,3.0,1.3,0.2,Iris-setosa\r\n",
      "5.1,3.4,1.5,0.2,Iris-setosa\r\n",
      "5.0,3.5,1.3,0.3,Iris-setosa\r\n",
      "4.5,2.3,1.3,0.3,Iris-setosa\r\n",
      "4.4,3.2,1.3,0.2,Iris-setosa\r\n",
      "5.0,3.5,1.6,0.6,Iris-setosa\r\n",
      "5.1,3.8,1.9,0.4,Iris-setosa\r\n",
      "4.8,3.0,1.4,0.3,Iris-setosa\r\n",
      "5.1,3.8,1.6,0.2,Iris-setosa\r\n",
      "4.6,3.2,1.4,0.2,Iris-setosa\r\n",
      "5.3,3.7,1.5,0.2,Iris-setosa\r\n",
      "5.0,3.3,1.4,0.2,Iris-setosa\r\n"
     ]
    }
   ],
   "source": [
    "! grep \"setosa\" iris.data"
   ]
  },
  {
   "cell_type": "markdown",
   "metadata": {},
   "source": [
    "###  `grep` command \n",
    "\n",
    "The name \"grep\" stands for \"global regular expression print\". This means that grep can be used to see if the input it receives matches a specified pattern.\n",
    "\n",
    "`grep` prints all of the lines from the `iris.data` that contain \"setosa\". It can search for patterns as well using [*regular expressions*](https://www.digitalocean.com/community/tutorials/using-grep-regular-expressions-to-search-for-text-patterns-in-linux); we will explore those later. \n",
    "\n",
    "What's more important right now is some of `grep`'s more common **flags**:\n",
    "\n",
    "`-c`: print a count of matching lines rather than the lines themselves\n",
    "\n",
    "`-h`: do not print the names of files when searching multiple files\n",
    "\n",
    "`-i`: ignore case (e.g., treat \"Regression\" and \"regression\" as matches)\n",
    "\n",
    "`-l`: print the names of files that contain matches, not the matches\n",
    "\n",
    "`-n`: print line numbers for matching lines\n",
    "\n",
    "`-v`: invert the match, i.e., only show lines that don't match"
   ]
  },
  {
   "cell_type": "code",
   "execution_count": 80,
   "metadata": {
    "scrolled": true
   },
   "outputs": [
    {
     "name": "stdout",
     "output_type": "stream",
     "text": [
      "51:7.0,3.2,4.7,1.4,Iris-versicolor\r\n",
      "52:6.4,3.2,4.5,1.5,Iris-versicolor\r\n",
      "53:6.9,3.1,4.9,1.5,Iris-versicolor\r\n",
      "54:5.5,2.3,4.0,1.3,Iris-versicolor\r\n",
      "55:6.5,2.8,4.6,1.5,Iris-versicolor\r\n",
      "56:5.7,2.8,4.5,1.3,Iris-versicolor\r\n",
      "57:6.3,3.3,4.7,1.6,Iris-versicolor\r\n",
      "58:4.9,2.4,3.3,1.0,Iris-versicolor\r\n",
      "59:6.6,2.9,4.6,1.3,Iris-versicolor\r\n",
      "60:5.2,2.7,3.9,1.4,Iris-versicolor\r\n",
      "61:5.0,2.0,3.5,1.0,Iris-versicolor\r\n",
      "62:5.9,3.0,4.2,1.5,Iris-versicolor\r\n",
      "63:6.0,2.2,4.0,1.0,Iris-versicolor\r\n",
      "64:6.1,2.9,4.7,1.4,Iris-versicolor\r\n",
      "65:5.6,2.9,3.6,1.3,Iris-versicolor\r\n",
      "66:6.7,3.1,4.4,1.4,Iris-versicolor\r\n",
      "67:5.6,3.0,4.5,1.5,Iris-versicolor\r\n",
      "68:5.8,2.7,4.1,1.0,Iris-versicolor\r\n",
      "69:6.2,2.2,4.5,1.5,Iris-versicolor\r\n",
      "70:5.6,2.5,3.9,1.1,Iris-versicolor\r\n",
      "71:5.9,3.2,4.8,1.8,Iris-versicolor\r\n",
      "72:6.1,2.8,4.0,1.3,Iris-versicolor\r\n",
      "73:6.3,2.5,4.9,1.5,Iris-versicolor\r\n",
      "74:6.1,2.8,4.7,1.2,Iris-versicolor\r\n",
      "75:6.4,2.9,4.3,1.3,Iris-versicolor\r\n",
      "76:6.6,3.0,4.4,1.4,Iris-versicolor\r\n",
      "77:6.8,2.8,4.8,1.4,Iris-versicolor\r\n",
      "78:6.7,3.0,5.0,1.7,Iris-versicolor\r\n",
      "79:6.0,2.9,4.5,1.5,Iris-versicolor\r\n",
      "80:5.7,2.6,3.5,1.0,Iris-versicolor\r\n",
      "81:5.5,2.4,3.8,1.1,Iris-versicolor\r\n",
      "82:5.5,2.4,3.7,1.0,Iris-versicolor\r\n",
      "83:5.8,2.7,3.9,1.2,Iris-versicolor\r\n",
      "84:6.0,2.7,5.1,1.6,Iris-versicolor\r\n",
      "85:5.4,3.0,4.5,1.5,Iris-versicolor\r\n",
      "86:6.0,3.4,4.5,1.6,Iris-versicolor\r\n",
      "87:6.7,3.1,4.7,1.5,Iris-versicolor\r\n",
      "88:6.3,2.3,4.4,1.3,Iris-versicolor\r\n",
      "89:5.6,3.0,4.1,1.3,Iris-versicolor\r\n",
      "90:5.5,2.5,4.0,1.3,Iris-versicolor\r\n",
      "91:5.5,2.6,4.4,1.2,Iris-versicolor\r\n",
      "92:6.1,3.0,4.6,1.4,Iris-versicolor\r\n",
      "93:5.8,2.6,4.0,1.2,Iris-versicolor\r\n",
      "94:5.0,2.3,3.3,1.0,Iris-versicolor\r\n",
      "95:5.6,2.7,4.2,1.3,Iris-versicolor\r\n",
      "96:5.7,3.0,4.2,1.2,Iris-versicolor\r\n",
      "97:5.7,2.9,4.2,1.3,Iris-versicolor\r\n",
      "98:6.2,2.9,4.3,1.3,Iris-versicolor\r\n",
      "99:5.1,2.5,3.0,1.1,Iris-versicolor\r\n",
      "100:5.7,2.8,4.1,1.3,Iris-versicolor\r\n",
      "101:6.3,3.3,6.0,2.5,Iris-virginica\r\n",
      "102:5.8,2.7,5.1,1.9,Iris-virginica\r\n",
      "103:7.1,3.0,5.9,2.1,Iris-virginica\r\n",
      "104:6.3,2.9,5.6,1.8,Iris-virginica\r\n",
      "105:6.5,3.0,5.8,2.2,Iris-virginica\r\n",
      "106:7.6,3.0,6.6,2.1,Iris-virginica\r\n",
      "107:4.9,2.5,4.5,1.7,Iris-virginica\r\n",
      "108:7.3,2.9,6.3,1.8,Iris-virginica\r\n",
      "109:6.7,2.5,5.8,1.8,Iris-virginica\r\n",
      "110:7.2,3.6,6.1,2.5,Iris-virginica\r\n",
      "111:6.5,3.2,5.1,2.0,Iris-virginica\r\n",
      "112:6.4,2.7,5.3,1.9,Iris-virginica\r\n",
      "113:6.8,3.0,5.5,2.1,Iris-virginica\r\n",
      "114:5.7,2.5,5.0,2.0,Iris-virginica\r\n",
      "115:5.8,2.8,5.1,2.4,Iris-virginica\r\n",
      "116:6.4,3.2,5.3,2.3,Iris-virginica\r\n",
      "117:6.5,3.0,5.5,1.8,Iris-virginica\r\n",
      "118:7.7,3.8,6.7,2.2,Iris-virginica\r\n",
      "119:7.7,2.6,6.9,2.3,Iris-virginica\r\n",
      "120:6.0,2.2,5.0,1.5,Iris-virginica\r\n",
      "121:6.9,3.2,5.7,2.3,Iris-virginica\r\n",
      "122:5.6,2.8,4.9,2.0,Iris-virginica\r\n",
      "123:7.7,2.8,6.7,2.0,Iris-virginica\r\n",
      "124:6.3,2.7,4.9,1.8,Iris-virginica\r\n",
      "125:6.7,3.3,5.7,2.1,Iris-virginica\r\n",
      "126:7.2,3.2,6.0,1.8,Iris-virginica\r\n",
      "127:6.2,2.8,4.8,1.8,Iris-virginica\r\n",
      "128:6.1,3.0,4.9,1.8,Iris-virginica\r\n",
      "129:6.4,2.8,5.6,2.1,Iris-virginica\r\n",
      "130:7.2,3.0,5.8,1.6,Iris-virginica\r\n",
      "131:7.4,2.8,6.1,1.9,Iris-virginica\r\n",
      "132:7.9,3.8,6.4,2.0,Iris-virginica\r\n",
      "133:6.4,2.8,5.6,2.2,Iris-virginica\r\n",
      "134:6.3,2.8,5.1,1.5,Iris-virginica\r\n",
      "135:6.1,2.6,5.6,1.4,Iris-virginica\r\n",
      "136:7.7,3.0,6.1,2.3,Iris-virginica\r\n",
      "137:6.3,3.4,5.6,2.4,Iris-virginica\r\n",
      "138:6.4,3.1,5.5,1.8,Iris-virginica\r\n",
      "139:6.0,3.0,4.8,1.8,Iris-virginica\r\n",
      "140:6.9,3.1,5.4,2.1,Iris-virginica\r\n",
      "141:6.7,3.1,5.6,2.4,Iris-virginica\r\n",
      "142:6.9,3.1,5.1,2.3,Iris-virginica\r\n",
      "143:5.8,2.7,5.1,1.9,Iris-virginica\r\n",
      "144:6.8,3.2,5.9,2.3,Iris-virginica\r\n",
      "145:6.7,3.3,5.7,2.5,Iris-virginica\r\n",
      "146:6.7,3.0,5.2,2.3,Iris-virginica\r\n",
      "147:6.3,2.5,5.0,1.9,Iris-virginica\r\n",
      "148:6.5,3.0,5.2,2.0,Iris-virginica\r\n",
      "149:6.2,3.4,5.4,2.3,Iris-virginica\r\n",
      "150:5.9,3.0,5.1,1.8,Iris-virginica\r\n",
      "151:\r\n"
     ]
    }
   ],
   "source": [
    "# best practices for grep is to place options/flags \n",
    "# before the pattern we are looking for:\n",
    "! grep -n -v \"setosa\" iris.data "
   ]
  },
  {
   "cell_type": "code",
   "execution_count": 56,
   "metadata": {},
   "outputs": [
    {
     "name": "stdout",
     "output_type": "stream",
     "text": [
      "50\r\n"
     ]
    }
   ],
   "source": [
    "! grep -c \"setosa\" iris.data"
   ]
  },
  {
   "cell_type": "markdown",
   "metadata": {},
   "source": [
    "## 3. Combining tools\n",
    "\n",
    "## Re-directing: store a command's output in a file\n",
    "\n",
    "All of the tools you have seen so far let you name input files. Most don't have an option for naming an output file because they don't need one. Instead, you can use redirection to save any command's output anywhere you want. "
   ]
  },
  {
   "cell_type": "code",
   "execution_count": 58,
   "metadata": {
    "collapsed": true
   },
   "outputs": [],
   "source": [
    "! grep \"setosa\" iris.data > setosa.csv"
   ]
  },
  {
   "cell_type": "code",
   "execution_count": 59,
   "metadata": {},
   "outputs": [
    {
     "name": "stdout",
     "output_type": "stream",
     "text": [
      "Lab1.ipynb                 \u001b[34mdata\u001b[m\u001b[m\r\n",
      "Lab2.ipynb                 iris.data\r\n",
      "Updating Forked Repo.ipynb setosa.csv\r\n"
     ]
    }
   ],
   "source": [
    "! ls"
   ]
  },
  {
   "cell_type": "markdown",
   "metadata": {},
   "source": [
    "We can then apply either of the above commands to the resulting file `setosa.csv`"
   ]
  },
  {
   "cell_type": "code",
   "execution_count": 63,
   "metadata": {},
   "outputs": [
    {
     "name": "stdout",
     "output_type": "stream",
     "text": [
      "5.1,Iris-setosa\r\n",
      "4.9,Iris-setosa\r\n",
      "4.7,Iris-setosa\r\n",
      "4.6,Iris-setosa\r\n",
      "5.0,Iris-setosa\r\n",
      "5.4,Iris-setosa\r\n",
      "4.6,Iris-setosa\r\n",
      "5.0,Iris-setosa\r\n",
      "4.4,Iris-setosa\r\n",
      "4.9,Iris-setosa\r\n",
      "5.4,Iris-setosa\r\n",
      "4.8,Iris-setosa\r\n",
      "4.8,Iris-setosa\r\n",
      "4.3,Iris-setosa\r\n",
      "5.8,Iris-setosa\r\n",
      "5.7,Iris-setosa\r\n",
      "5.4,Iris-setosa\r\n",
      "5.1,Iris-setosa\r\n",
      "5.7,Iris-setosa\r\n",
      "5.1,Iris-setosa\r\n",
      "5.4,Iris-setosa\r\n",
      "5.1,Iris-setosa\r\n",
      "4.6,Iris-setosa\r\n",
      "5.1,Iris-setosa\r\n",
      "4.8,Iris-setosa\r\n",
      "5.0,Iris-setosa\r\n",
      "5.0,Iris-setosa\r\n",
      "5.2,Iris-setosa\r\n",
      "5.2,Iris-setosa\r\n",
      "4.7,Iris-setosa\r\n",
      "4.8,Iris-setosa\r\n",
      "5.4,Iris-setosa\r\n",
      "5.2,Iris-setosa\r\n",
      "5.5,Iris-setosa\r\n",
      "4.9,Iris-setosa\r\n",
      "5.0,Iris-setosa\r\n",
      "5.5,Iris-setosa\r\n",
      "4.9,Iris-setosa\r\n",
      "4.4,Iris-setosa\r\n",
      "5.1,Iris-setosa\r\n",
      "5.0,Iris-setosa\r\n",
      "4.5,Iris-setosa\r\n",
      "4.4,Iris-setosa\r\n",
      "5.0,Iris-setosa\r\n",
      "5.1,Iris-setosa\r\n",
      "4.8,Iris-setosa\r\n",
      "5.1,Iris-setosa\r\n",
      "4.6,Iris-setosa\r\n",
      "5.3,Iris-setosa\r\n",
      "5.0,Iris-setosa\r\n"
     ]
    }
   ],
   "source": [
    "# For example, select only first and last columns\n",
    "! cut -f 1,5 -d , setosa.csv"
   ]
  },
  {
   "cell_type": "markdown",
   "metadata": {},
   "source": [
    "## Piping: using one command's output as another command's input\n",
    "\n",
    "The shell provides another tool that solves both of these problems at once called a **pipe**. \n"
   ]
  },
  {
   "cell_type": "code",
   "execution_count": 81,
   "metadata": {
    "scrolled": true
   },
   "outputs": [
    {
     "name": "stdout",
     "output_type": "stream",
     "text": [
      "5.1,Iris-setosa\r\n",
      "4.9,Iris-setosa\r\n",
      "4.7,Iris-setosa\r\n",
      "4.6,Iris-setosa\r\n",
      "5.0,Iris-setosa\r\n",
      "5.4,Iris-setosa\r\n",
      "4.6,Iris-setosa\r\n",
      "5.0,Iris-setosa\r\n",
      "4.4,Iris-setosa\r\n",
      "4.9,Iris-setosa\r\n",
      "5.4,Iris-setosa\r\n",
      "4.8,Iris-setosa\r\n",
      "4.8,Iris-setosa\r\n",
      "4.3,Iris-setosa\r\n",
      "5.8,Iris-setosa\r\n",
      "5.7,Iris-setosa\r\n",
      "5.4,Iris-setosa\r\n",
      "5.1,Iris-setosa\r\n",
      "5.7,Iris-setosa\r\n",
      "5.1,Iris-setosa\r\n",
      "5.4,Iris-setosa\r\n",
      "5.1,Iris-setosa\r\n",
      "4.6,Iris-setosa\r\n",
      "5.1,Iris-setosa\r\n",
      "4.8,Iris-setosa\r\n",
      "5.0,Iris-setosa\r\n",
      "5.0,Iris-setosa\r\n",
      "5.2,Iris-setosa\r\n",
      "5.2,Iris-setosa\r\n",
      "4.7,Iris-setosa\r\n",
      "4.8,Iris-setosa\r\n",
      "5.4,Iris-setosa\r\n",
      "5.2,Iris-setosa\r\n",
      "5.5,Iris-setosa\r\n",
      "4.9,Iris-setosa\r\n",
      "5.0,Iris-setosa\r\n",
      "5.5,Iris-setosa\r\n",
      "4.9,Iris-setosa\r\n",
      "4.4,Iris-setosa\r\n",
      "5.1,Iris-setosa\r\n",
      "5.0,Iris-setosa\r\n",
      "4.5,Iris-setosa\r\n",
      "4.4,Iris-setosa\r\n",
      "5.0,Iris-setosa\r\n",
      "5.1,Iris-setosa\r\n",
      "4.8,Iris-setosa\r\n",
      "5.1,Iris-setosa\r\n",
      "4.6,Iris-setosa\r\n",
      "5.3,Iris-setosa\r\n",
      "5.0,Iris-setosa\r\n"
     ]
    }
   ],
   "source": [
    "# Option 1\n",
    "! grep \"setosa\" iris.data > setosa.csv\n",
    "! cut -f 1,5 -d , setosa.csv"
   ]
  },
  {
   "cell_type": "code",
   "execution_count": 82,
   "metadata": {},
   "outputs": [
    {
     "name": "stdout",
     "output_type": "stream",
     "text": [
      "5.1,Iris-setosa\r\n",
      "4.9,Iris-setosa\r\n",
      "4.7,Iris-setosa\r\n",
      "4.6,Iris-setosa\r\n",
      "5.0,Iris-setosa\r\n",
      "5.4,Iris-setosa\r\n",
      "4.6,Iris-setosa\r\n",
      "5.0,Iris-setosa\r\n",
      "4.4,Iris-setosa\r\n",
      "4.9,Iris-setosa\r\n",
      "5.4,Iris-setosa\r\n",
      "4.8,Iris-setosa\r\n",
      "4.8,Iris-setosa\r\n",
      "4.3,Iris-setosa\r\n",
      "5.8,Iris-setosa\r\n",
      "5.7,Iris-setosa\r\n",
      "5.4,Iris-setosa\r\n",
      "5.1,Iris-setosa\r\n",
      "5.7,Iris-setosa\r\n",
      "5.1,Iris-setosa\r\n",
      "5.4,Iris-setosa\r\n",
      "5.1,Iris-setosa\r\n",
      "4.6,Iris-setosa\r\n",
      "5.1,Iris-setosa\r\n",
      "4.8,Iris-setosa\r\n",
      "5.0,Iris-setosa\r\n",
      "5.0,Iris-setosa\r\n",
      "5.2,Iris-setosa\r\n",
      "5.2,Iris-setosa\r\n",
      "4.7,Iris-setosa\r\n",
      "4.8,Iris-setosa\r\n",
      "5.4,Iris-setosa\r\n",
      "5.2,Iris-setosa\r\n",
      "5.5,Iris-setosa\r\n",
      "4.9,Iris-setosa\r\n",
      "5.0,Iris-setosa\r\n",
      "5.5,Iris-setosa\r\n",
      "4.9,Iris-setosa\r\n",
      "4.4,Iris-setosa\r\n",
      "5.1,Iris-setosa\r\n",
      "5.0,Iris-setosa\r\n",
      "4.5,Iris-setosa\r\n",
      "4.4,Iris-setosa\r\n",
      "5.0,Iris-setosa\r\n",
      "5.1,Iris-setosa\r\n",
      "4.8,Iris-setosa\r\n",
      "5.1,Iris-setosa\r\n",
      "4.6,Iris-setosa\r\n",
      "5.3,Iris-setosa\r\n",
      "5.0,Iris-setosa\r\n"
     ]
    }
   ],
   "source": [
    "# Option 2\n",
    "! grep \"setosa\" iris.data | cut -f 1,5 -d , "
   ]
  },
  {
   "cell_type": "markdown",
   "metadata": {},
   "source": [
    "The pipe symbol `|` tells the shell to use the output of the command on the left as the input to the command on the right."
   ]
  },
  {
   "cell_type": "code",
   "execution_count": 83,
   "metadata": {},
   "outputs": [
    {
     "name": "stdout",
     "output_type": "stream",
     "text": [
      "10:4.9,3.1,1.5,0.1,Iris-setosa\r\n",
      "11:5.4,3.7,1.5,0.2,Iris-setosa\r\n",
      "12:4.8,3.4,1.6,0.2,Iris-setosa\r\n",
      "13:4.8,3.0,1.4,0.1,Iris-setosa\r\n",
      "14:4.3,3.0,1.1,0.1,Iris-setosa\r\n"
     ]
    }
   ],
   "source": [
    "# Sort rows containing the word setosa according to the 4th \"numeric\" (-n)\n",
    "# key (field)\n",
    "! grep -n \"setosa\" iris.data | sort -n -k 4 | head -n 5"
   ]
  },
  {
   "cell_type": "markdown",
   "metadata": {},
   "source": [
    "## Pipes and re-direction\n",
    "\n",
    "The shell lets us redirect the output of a sequence of piped commands. However, `>` must appear at the end of the pipeline: if we try to use it in the middle, like this:"
   ]
  },
  {
   "cell_type": "code",
   "execution_count": null,
   "metadata": {
    "collapsed": true
   },
   "outputs": [],
   "source": [
    "! grep -n \"setosa\" iris.data | sort -n -k 4 | head -n 5 > bottom5.csv"
   ]
  },
  {
   "cell_type": "markdown",
   "metadata": {},
   "source": [
    "## How can I stop a running program?\n",
    "\n",
    "The commands and scripts that you have run so far have all executed quickly, but some tasks will take minutes, hours, or even days to complete. \n",
    "\n",
    "You may also mistakenly put **redirection** in the middle of a **pipeline**, causing it to hang up. If you decide that you don't want a program to keep running, you can type `Ctrl-C` to end it. This is often written `^C` in Unix documentation; note that the 'c' can be lower-case."
   ]
  },
  {
   "cell_type": "markdown",
   "metadata": {},
   "source": [
    "# 4. Batch processing\n",
    "\n",
    "## Environment variables\n",
    "\n",
    "Like other programs, the shell stores information in variables. Some of these, called **environment variables**, are available all the time. Environment variables' names are conventionally written in upper case, and a few of the more commonly-used ones are shown below:\n",
    "\n",
    "Variable | Purpose | Value\n",
    "--- | --- | ---\n",
    "`HOME` | User's home directory | `/home/repl`\n",
    "`PWD` | Present working directory | Same as `pwd` command\n",
    "`SHELL` | Which shell program is being used | `/bin/bash`\n",
    "`USER` | User's `ID` | repl"
   ]
  },
  {
   "cell_type": "code",
   "execution_count": 79,
   "metadata": {},
   "outputs": [
    {
     "name": "stdout",
     "output_type": "stream",
     "text": [
      "/bin/sh: SHELL: command not found\r\n"
     ]
    }
   ],
   "source": [
    "# To get the entire list of environment variables use the set command\n",
    "! set"
   ]
  },
  {
   "cell_type": "markdown",
   "metadata": {},
   "source": [
    "To see the **variable value**, the simplest way is to use the `echo` command and the variable name preceded by the dollar sign `$`. For example:"
   ]
  },
  {
   "cell_type": "code",
   "execution_count": 85,
   "metadata": {},
   "outputs": [
    {
     "name": "stdout",
     "output_type": "stream",
     "text": [
      "darwin14\r\n"
     ]
    }
   ],
   "source": [
    "! echo $OSTYPE # OSTYPE holds the operating system value"
   ]
  },
  {
   "cell_type": "markdown",
   "metadata": {},
   "source": [
    "## `for` loops\n",
    "\n",
    "Suppose we want to subset `iris.data` in three files, each one containing the rows associated to a certain class (in this case `Iris-setosa`, `Iris-versicolor`, `Iris-versicolor`). A possible option would be to use `grep` and re-directing the output to a file using `>`. Since the latter would involve repeating the same process three times, we can then replicate the same procedure more efficiently using a for loop."
   ]
  },
  {
   "cell_type": "code",
   "execution_count": 112,
   "metadata": {},
   "outputs": [
    {
     "name": "stdout",
     "output_type": "stream",
     "text": [
      "Iris-setosa\r\n",
      "Iris-versicolor\r\n",
      "Iris-virginica\r\n",
      "\r\n"
     ]
    }
   ],
   "source": [
    "# Obtain iris flower types\n",
    "! cut -f 5 -d , iris.data | uniq "
   ]
  },
  {
   "cell_type": "code",
   "execution_count": 134,
   "metadata": {
    "collapsed": true
   },
   "outputs": [],
   "source": [
    "# We can create \"shell\" variables just as environment variables\n",
    "# by \"redirecting\" de value of a command to a variable in LHS.\n",
    "# Note that there are no spaces around the equal sign.\n",
    "! iris_type=$(cut -f 5 -d , iris.data | uniq)"
   ]
  },
  {
   "cell_type": "code",
   "execution_count": 135,
   "metadata": {},
   "outputs": [
    {
     "name": "stdout",
     "output_type": "stream",
     "text": [
      "\r\n"
     ]
    }
   ],
   "source": [
    "! echo $iris_type"
   ]
  },
  {
   "cell_type": "code",
   "execution_count": 139,
   "metadata": {
    "collapsed": true
   },
   "outputs": [],
   "source": [
    "! for flower in $iris_type; do grep $flower iris.data > $flower.csv; done"
   ]
  },
  {
   "cell_type": "code",
   "execution_count": 140,
   "metadata": {},
   "outputs": [
    {
     "name": "stdout",
     "output_type": "stream",
     "text": [
      "Iris-setosa.csv            bottom5.csv\r\n",
      "Iris-versicolor.csv        \u001b[34mdata\u001b[m\u001b[m\r\n",
      "Iris-virginica.csv         iris.data\r\n",
      "Lab1.ipynb                 iris_type.csv\r\n",
      "Lab2.ipynb                 setosa.csv\r\n",
      "Updating Forked Repo.ipynb\r\n"
     ]
    }
   ],
   "source": [
    "! ls"
   ]
  },
  {
   "cell_type": "markdown",
   "metadata": {},
   "source": [
    "### The loop's parts are:\n",
    "\n",
    "The skeleton `for ...variable... in ...list...; ...body...; done`\n",
    "\n",
    "1. The list of things the loop is to process (in our case, the words Iris-setosa, Iris-versicolor, Iris-virginica accesses using `$iris_type`).\n",
    "2. The variable that keeps track of which thing the loop is currently processing (in our case, `flower`).\n",
    "3. The body of the loop that does the processing (in our case, `grep $flower iris.data > $flower.csv`).\n",
    "\n",
    "> Notice that the body uses `$flower` to get the variable's value instead of just suffix, just like it does with any other shell variable. Also notice where the semi-colons go: the first one comes between the list and the keyword do, and the second comes between the body and the keyword done."
   ]
  },
  {
   "cell_type": "markdown",
   "metadata": {},
   "source": [
    "# 5. Shell Scripts\n",
    "\n",
    "We are finally ready to see what makes the shell such a powerful programming environment. We are going to take the commands we repeat frequently and save them in files so that we can re-run all those operations again later by typing a single command. For historical reasons, a bunch of commands saved in a file is usually called a shell script, but make no mistake: these are actually small programs.\n",
    "\n",
    "\n",
    "Let's start by creating a new file, `middle.sh` which will become our shell script. Open the terminal and type:\n",
    "\n",
    "```\n",
    "nano middle.sh\n",
    "```\n",
    "\n",
    "The command `nano middle.sh` opens the file middle.sh within the text editor “nano” (which runs within the shell). If the file does not exist, it will be created. We can use the text editor to directly edit the file – we’ll simply insert the following line:\n",
    "\n",
    "```\n",
    "head -n 15 iris.data | tail -n 5\n",
    "```\n",
    "\n",
    "Then we save the file (`Ctrl-O` in `nano`), and exit the text editor (`Ctrl-X` in nano).\n",
    "\n",
    "Once we have saved the file, we can ask the shell to execute the commands it contains. Our shell is called bash, so we run the following command:\n"
   ]
  },
  {
   "cell_type": "code",
   "execution_count": 144,
   "metadata": {},
   "outputs": [
    {
     "name": "stdout",
     "output_type": "stream",
     "text": [
      "Iris-setosa.csv            bottom5.csv\r\n",
      "Iris-versicolor.csv        \u001b[34mdata\u001b[m\u001b[m\r\n",
      "Iris-virginica.csv         iris.data\r\n",
      "Lab1.ipynb                 iris_type.csv\r\n",
      "Lab2.ipynb                 middle.sh\r\n",
      "Updating Forked Repo.ipynb setosa.csv\r\n"
     ]
    }
   ],
   "source": [
    "! ls"
   ]
  },
  {
   "cell_type": "code",
   "execution_count": 146,
   "metadata": {},
   "outputs": [
    {
     "name": "stdout",
     "output_type": "stream",
     "text": [
      "head -n 15 \"$1\" | tail -n 5\r\n"
     ]
    }
   ],
   "source": [
    "! cat middle.sh"
   ]
  },
  {
   "cell_type": "markdown",
   "metadata": {},
   "source": [
    "### What if we want to select lines from an arbitrary file? \n",
    "\n",
    "We could edit `middle.sh` each time to change the filename, but that would probably take longer than just retyping the command. Instead, let’s edit `middle.sh` and make it more versatile. \n",
    "\n",
    "Open the terminal and type again:\n",
    "```\n",
    "nano middle.sh\n",
    "```\n",
    "Now, within “nano”, replace the text `iris.data` with the special variable called `$1`:\n",
    "\n",
    "```\n",
    "head -n 15 \"$1\" | tail -n 5\n",
    "```\n",
    "Inside a shell script, `$1` means “the first filename (or other argument) on the command line”. We can now run our script like this:"
   ]
  },
  {
   "cell_type": "code",
   "execution_count": 147,
   "metadata": {},
   "outputs": [
    {
     "name": "stdout",
     "output_type": "stream",
     "text": [
      "5.4,3.7,1.5,0.2,Iris-setosa\r\n",
      "4.8,3.4,1.6,0.2,Iris-setosa\r\n",
      "4.8,3.0,1.4,0.1,Iris-setosa\r\n",
      "4.3,3.0,1.1,0.1,Iris-setosa\r\n",
      "5.8,4.0,1.2,0.2,Iris-setosa\r\n"
     ]
    }
   ],
   "source": [
    "! bash middle.sh Iris-setosa.csv"
   ]
  },
  {
   "cell_type": "markdown",
   "metadata": {},
   "source": [
    "We still need to edit middle.sh each time we want to adjust the range of lines, though. Let’s fix that by using the special variables `$2` and `$3` for the number of lines to be passed to head and tail respectively. In the terminal type\n",
    "\n",
    "```\n",
    "nano middle.sh\n",
    "```\n",
    "and edit its contents to\n",
    "\n",
    "```\n",
    "head -n \"$2\" \"$1\" | tail -n \"$3\"\n",
    "```\n",
    "We can now run:"
   ]
  },
  {
   "cell_type": "code",
   "execution_count": 148,
   "metadata": {},
   "outputs": [
    {
     "name": "stdout",
     "output_type": "stream",
     "text": [
      "5.4,3.7,1.5,0.2,Iris-setosa\r\n",
      "4.8,3.4,1.6,0.2,Iris-setosa\r\n",
      "4.8,3.0,1.4,0.1,Iris-setosa\r\n",
      "4.3,3.0,1.1,0.1,Iris-setosa\r\n",
      "5.8,4.0,1.2,0.2,Iris-setosa\r\n"
     ]
    }
   ],
   "source": [
    "! bash middle.sh Iris-setosa.csv 15 5"
   ]
  },
  {
   "cell_type": "markdown",
   "metadata": {},
   "source": [
    "----\n",
    "# Appendix: Regular Expressions\n",
    "\n",
    "1. Literal Matches\n",
    "2. Anchor Matches\n",
    "3. Matching Any Character\n",
    "4. Bracket Expressions\n",
    "5. Repeat Pattern Zero or More Times\n",
    "6. Escaping Meta-Characters"
   ]
  },
  {
   "cell_type": "code",
   "execution_count": null,
   "metadata": {
    "collapsed": true
   },
   "outputs": [],
   "source": []
  }
 ],
 "metadata": {
  "kernelspec": {
   "display_name": "Python 3",
   "language": "python",
   "name": "python3"
  },
  "language_info": {
   "codemirror_mode": {
    "name": "ipython",
    "version": 3
   },
   "file_extension": ".py",
   "mimetype": "text/x-python",
   "name": "python",
   "nbconvert_exporter": "python",
   "pygments_lexer": "ipython3",
   "version": "3.6.3"
  }
 },
 "nbformat": 4,
 "nbformat_minor": 2
}
